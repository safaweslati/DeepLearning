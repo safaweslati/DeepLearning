{
  "nbformat": 4,
  "nbformat_minor": 0,
  "metadata": {
    "colab": {
      "provenance": [],
      "gpuType": "T4",
      "include_colab_link": true
    },
    "kernelspec": {
      "name": "python3",
      "display_name": "Python 3"
    },
    "language_info": {
      "name": "python"
    },
    "accelerator": "GPU"
  },
  "cells": [
    {
      "cell_type": "markdown",
      "metadata": {
        "id": "view-in-github",
        "colab_type": "text"
      },
      "source": [
        "<a href=\"https://colab.research.google.com/github/EmnaGaidi/Deep-Learning/blob/main/TP3_deep_learning.ipynb\" target=\"_parent\"><img src=\"https://colab.research.google.com/assets/colab-badge.svg\" alt=\"Open In Colab\"/></a>"
      ]
    },
    {
      "cell_type": "markdown",
      "source": [
        "# Travail réalisé par :\n",
        "\n",
        "\n",
        "*   GAIDI EMNA\n",
        "*   OUESLATI SAFA\n",
        "*   BEN AMMAR HAMZA\n",
        "\n",
        "\n"
      ],
      "metadata": {
        "id": "leZFjmHgAaJM"
      }
    },
    {
      "cell_type": "code",
      "execution_count": null,
      "metadata": {
        "id": "wVEvWfMfPpm3"
      },
      "outputs": [],
      "source": [
        "\n",
        "import numpy as np\n",
        "from keras.datasets import mnist\n",
        "from keras.utils import to_categorical\n",
        "from keras import backend as K\n",
        "from keras.models import Sequential\n",
        "from keras.layers import Dense, Dropout, Flatten, Conv2D, MaxPooling2D\n",
        "seed = 7\n",
        "np.random.seed(seed)\n",
        "K.set_image_data_format('channels_first')"
      ]
    },
    {
      "cell_type": "code",
      "source": [
        "!pip install tensorflow==2.15.0\n"
      ],
      "metadata": {
        "colab": {
          "base_uri": "https://localhost:8080/"
        },
        "id": "o5SWPsmuPvac",
        "outputId": "ca57b5e4-6a37-442b-9b11-e0d2fafb2f44"
      },
      "execution_count": null,
      "outputs": [
        {
          "output_type": "stream",
          "name": "stdout",
          "text": [
            "Requirement already satisfied: tensorflow==2.15.0 in /usr/local/lib/python3.10/dist-packages (2.15.0)\n",
            "Requirement already satisfied: absl-py>=1.0.0 in /usr/local/lib/python3.10/dist-packages (from tensorflow==2.15.0) (1.4.0)\n",
            "Requirement already satisfied: astunparse>=1.6.0 in /usr/local/lib/python3.10/dist-packages (from tensorflow==2.15.0) (1.6.3)\n",
            "Requirement already satisfied: flatbuffers>=23.5.26 in /usr/local/lib/python3.10/dist-packages (from tensorflow==2.15.0) (24.3.25)\n",
            "Requirement already satisfied: gast!=0.5.0,!=0.5.1,!=0.5.2,>=0.2.1 in /usr/local/lib/python3.10/dist-packages (from tensorflow==2.15.0) (0.5.4)\n",
            "Requirement already satisfied: google-pasta>=0.1.1 in /usr/local/lib/python3.10/dist-packages (from tensorflow==2.15.0) (0.2.0)\n",
            "Requirement already satisfied: h5py>=2.9.0 in /usr/local/lib/python3.10/dist-packages (from tensorflow==2.15.0) (3.9.0)\n",
            "Requirement already satisfied: libclang>=13.0.0 in /usr/local/lib/python3.10/dist-packages (from tensorflow==2.15.0) (18.1.1)\n",
            "Requirement already satisfied: ml-dtypes~=0.2.0 in /usr/local/lib/python3.10/dist-packages (from tensorflow==2.15.0) (0.2.0)\n",
            "Requirement already satisfied: numpy<2.0.0,>=1.23.5 in /usr/local/lib/python3.10/dist-packages (from tensorflow==2.15.0) (1.25.2)\n",
            "Requirement already satisfied: opt-einsum>=2.3.2 in /usr/local/lib/python3.10/dist-packages (from tensorflow==2.15.0) (3.3.0)\n",
            "Requirement already satisfied: packaging in /usr/local/lib/python3.10/dist-packages (from tensorflow==2.15.0) (24.0)\n",
            "Requirement already satisfied: protobuf!=4.21.0,!=4.21.1,!=4.21.2,!=4.21.3,!=4.21.4,!=4.21.5,<5.0.0dev,>=3.20.3 in /usr/local/lib/python3.10/dist-packages (from tensorflow==2.15.0) (3.20.3)\n",
            "Requirement already satisfied: setuptools in /usr/local/lib/python3.10/dist-packages (from tensorflow==2.15.0) (67.7.2)\n",
            "Requirement already satisfied: six>=1.12.0 in /usr/local/lib/python3.10/dist-packages (from tensorflow==2.15.0) (1.16.0)\n",
            "Requirement already satisfied: termcolor>=1.1.0 in /usr/local/lib/python3.10/dist-packages (from tensorflow==2.15.0) (2.4.0)\n",
            "Requirement already satisfied: typing-extensions>=3.6.6 in /usr/local/lib/python3.10/dist-packages (from tensorflow==2.15.0) (4.11.0)\n",
            "Requirement already satisfied: wrapt<1.15,>=1.11.0 in /usr/local/lib/python3.10/dist-packages (from tensorflow==2.15.0) (1.14.1)\n",
            "Requirement already satisfied: tensorflow-io-gcs-filesystem>=0.23.1 in /usr/local/lib/python3.10/dist-packages (from tensorflow==2.15.0) (0.36.0)\n",
            "Requirement already satisfied: grpcio<2.0,>=1.24.3 in /usr/local/lib/python3.10/dist-packages (from tensorflow==2.15.0) (1.62.2)\n",
            "Requirement already satisfied: tensorboard<2.16,>=2.15 in /usr/local/lib/python3.10/dist-packages (from tensorflow==2.15.0) (2.15.2)\n",
            "Requirement already satisfied: tensorflow-estimator<2.16,>=2.15.0 in /usr/local/lib/python3.10/dist-packages (from tensorflow==2.15.0) (2.15.0)\n",
            "Requirement already satisfied: keras<2.16,>=2.15.0 in /usr/local/lib/python3.10/dist-packages (from tensorflow==2.15.0) (2.15.0)\n",
            "Requirement already satisfied: wheel<1.0,>=0.23.0 in /usr/local/lib/python3.10/dist-packages (from astunparse>=1.6.0->tensorflow==2.15.0) (0.43.0)\n",
            "Requirement already satisfied: google-auth<3,>=1.6.3 in /usr/local/lib/python3.10/dist-packages (from tensorboard<2.16,>=2.15->tensorflow==2.15.0) (2.27.0)\n",
            "Requirement already satisfied: google-auth-oauthlib<2,>=0.5 in /usr/local/lib/python3.10/dist-packages (from tensorboard<2.16,>=2.15->tensorflow==2.15.0) (1.2.0)\n",
            "Requirement already satisfied: markdown>=2.6.8 in /usr/local/lib/python3.10/dist-packages (from tensorboard<2.16,>=2.15->tensorflow==2.15.0) (3.6)\n",
            "Requirement already satisfied: requests<3,>=2.21.0 in /usr/local/lib/python3.10/dist-packages (from tensorboard<2.16,>=2.15->tensorflow==2.15.0) (2.31.0)\n",
            "Requirement already satisfied: tensorboard-data-server<0.8.0,>=0.7.0 in /usr/local/lib/python3.10/dist-packages (from tensorboard<2.16,>=2.15->tensorflow==2.15.0) (0.7.2)\n",
            "Requirement already satisfied: werkzeug>=1.0.1 in /usr/local/lib/python3.10/dist-packages (from tensorboard<2.16,>=2.15->tensorflow==2.15.0) (3.0.2)\n",
            "Requirement already satisfied: cachetools<6.0,>=2.0.0 in /usr/local/lib/python3.10/dist-packages (from google-auth<3,>=1.6.3->tensorboard<2.16,>=2.15->tensorflow==2.15.0) (5.3.3)\n",
            "Requirement already satisfied: pyasn1-modules>=0.2.1 in /usr/local/lib/python3.10/dist-packages (from google-auth<3,>=1.6.3->tensorboard<2.16,>=2.15->tensorflow==2.15.0) (0.4.0)\n",
            "Requirement already satisfied: rsa<5,>=3.1.4 in /usr/local/lib/python3.10/dist-packages (from google-auth<3,>=1.6.3->tensorboard<2.16,>=2.15->tensorflow==2.15.0) (4.9)\n",
            "Requirement already satisfied: requests-oauthlib>=0.7.0 in /usr/local/lib/python3.10/dist-packages (from google-auth-oauthlib<2,>=0.5->tensorboard<2.16,>=2.15->tensorflow==2.15.0) (1.3.1)\n",
            "Requirement already satisfied: charset-normalizer<4,>=2 in /usr/local/lib/python3.10/dist-packages (from requests<3,>=2.21.0->tensorboard<2.16,>=2.15->tensorflow==2.15.0) (3.3.2)\n",
            "Requirement already satisfied: idna<4,>=2.5 in /usr/local/lib/python3.10/dist-packages (from requests<3,>=2.21.0->tensorboard<2.16,>=2.15->tensorflow==2.15.0) (3.7)\n",
            "Requirement already satisfied: urllib3<3,>=1.21.1 in /usr/local/lib/python3.10/dist-packages (from requests<3,>=2.21.0->tensorboard<2.16,>=2.15->tensorflow==2.15.0) (2.0.7)\n",
            "Requirement already satisfied: certifi>=2017.4.17 in /usr/local/lib/python3.10/dist-packages (from requests<3,>=2.21.0->tensorboard<2.16,>=2.15->tensorflow==2.15.0) (2024.2.2)\n",
            "Requirement already satisfied: MarkupSafe>=2.1.1 in /usr/local/lib/python3.10/dist-packages (from werkzeug>=1.0.1->tensorboard<2.16,>=2.15->tensorflow==2.15.0) (2.1.5)\n",
            "Requirement already satisfied: pyasn1<0.7.0,>=0.4.6 in /usr/local/lib/python3.10/dist-packages (from pyasn1-modules>=0.2.1->google-auth<3,>=1.6.3->tensorboard<2.16,>=2.15->tensorflow==2.15.0) (0.6.0)\n",
            "Requirement already satisfied: oauthlib>=3.0.0 in /usr/local/lib/python3.10/dist-packages (from requests-oauthlib>=0.7.0->google-auth-oauthlib<2,>=0.5->tensorboard<2.16,>=2.15->tensorflow==2.15.0) (3.2.2)\n"
          ]
        }
      ]
    },
    {
      "cell_type": "code",
      "source": [
        "import tensorflow as tf\n",
        "print(tf.__version__)\n"
      ],
      "metadata": {
        "colab": {
          "base_uri": "https://localhost:8080/"
        },
        "id": "1v8zpJl5Q1k_",
        "outputId": "e7858d12-9b54-4090-cc2e-c34e7d4b6d54"
      },
      "execution_count": null,
      "outputs": [
        {
          "output_type": "stream",
          "name": "stdout",
          "text": [
            "2.15.0\n"
          ]
        }
      ]
    },
    {
      "cell_type": "markdown",
      "source": [
        "# Construction du premier réseau"
      ],
      "metadata": {
        "id": "03cRS2TiooJX"
      }
    },
    {
      "cell_type": "code",
      "source": [
        "#load data\n",
        "(X_train, y_train),(X_test, y_test)= mnist.load_data()"
      ],
      "metadata": {
        "id": "N4zo31lsRjvW"
      },
      "execution_count": null,
      "outputs": []
    },
    {
      "cell_type": "code",
      "source": [
        "import matplotlib.pyplot as plt\n",
        "\n",
        "# Display the first few images from the training set\n",
        "num_images_to_display = 5\n",
        "for i in range(num_images_to_display):\n",
        "    plt.subplot(1, num_images_to_display, i+1)\n",
        "    plt.imshow(X_train[i], cmap='gray')\n",
        "    plt.title(\"Label: {}\".format(y_train[i]))\n",
        "    plt.axis('off')\n",
        "plt.show()"
      ],
      "metadata": {
        "colab": {
          "base_uri": "https://localhost:8080/",
          "height": 144
        },
        "id": "SVPOe9lmTTur",
        "outputId": "89d2e9b5-1ff1-45f1-b08b-1540aa66f3ee"
      },
      "execution_count": null,
      "outputs": [
        {
          "output_type": "display_data",
          "data": {
            "text/plain": [
              "<Figure size 640x480 with 5 Axes>"
            ],
            "image/png": "[encoded data removed]"
          },
          "metadata": {}
        }
      ]
    },
    {
      "cell_type": "code",
      "source": [
        "# reshape to be [samples][pixels][width][height]\n",
        "X_train = X_train.reshape(X_train.shape[0], 1, 28,28).astype('float32')\n",
        "X_test = X_test.reshape(X_test.shape[0], 1, 28, 28).astype('float32')"
      ],
      "metadata": {
        "id": "zYpjBeUQTx-E"
      },
      "execution_count": null,
      "outputs": []
    },
    {
      "cell_type": "code",
      "source": [
        "#one hot encode outputs\n",
        "y_train = to_categorical(y_train)\n",
        "y_test = to_categorical(y_test)\n",
        "num_classes = y_test.shape[1]"
      ],
      "metadata": {
        "id": "KWJ8wOnkUqRS"
      },
      "execution_count": null,
      "outputs": []
    },
    {
      "cell_type": "code",
      "source": [
        "y_test[0]"
      ],
      "metadata": {
        "colab": {
          "base_uri": "https://localhost:8080/"
        },
        "id": "B1euiAAFWwSa",
        "outputId": "a2705746-a149-4e2c-de02-5abcb95e0e63"
      },
      "execution_count": null,
      "outputs": [
        {
          "output_type": "execute_result",
          "data": {
            "text/plain": [
              "array([0., 0., 0., 0., 0., 0., 0., 1., 0., 0.], dtype=float32)"
            ]
          },
          "metadata": {},
          "execution_count": 22
        }
      ]
    },
    {
      "cell_type": "code",
      "source": [
        "def get_data_mnist(normalize=True):\n",
        "    # Load data\n",
        "    (X_train, y_train), (X_test, y_test) = mnist.load_data()\n",
        "\n",
        "    # Reshape data\n",
        "    X_train = X_train.reshape(X_train.shape[0], 1, 28, 28).astype('float32')\n",
        "    X_test = X_test.reshape(X_test.shape[0], 1, 28, 28).astype('float32')\n",
        "\n",
        "    # Normalize data\n",
        "    if normalize:\n",
        "        X_train /= 255.0\n",
        "        X_test /= 255.0\n",
        "\n",
        "    # One-hot encode outputs\n",
        "    y_train = to_categorical(y_train)\n",
        "    y_test = to_categorical(y_test)\n",
        "\n",
        "    num_classes = y_test.shape[1]\n",
        "\n",
        "    return (X_train, y_train), (X_test, y_test), num_classes\n"
      ],
      "metadata": {
        "id": "qq5pmYcWWxWz"
      },
      "execution_count": null,
      "outputs": []
    },
    {
      "cell_type": "code",
      "source": [
        "(X_train, y_train), (X_test, y_test), num_classes = get_data_mnist()"
      ],
      "metadata": {
        "id": "XZNmTsXCXn06"
      },
      "execution_count": null,
      "outputs": []
    },
    {
      "cell_type": "code",
      "source": [
        "def small_model():\n",
        "  model = Sequential()\n",
        "  # create model\n",
        "  model = Sequential()\n",
        "  model.add(Conv2D(64, (3, 3), input_shape=(1, 28, 28),activation='relu'))\n",
        "  model.add(Conv2D(32, (3, 3), activation='relu'))\n",
        "  model.add(Flatten())\n",
        "  model.add(Dense(num_classes, activation='softmax'))\n",
        "  #compile model\n",
        "  model.compile(loss='categorical_crossentropy', optimizer='adam', metrics=['accuracy'])\n",
        "  return model"
      ],
      "metadata": {
        "id": "7dTsPKG4Y9Dy"
      },
      "execution_count": null,
      "outputs": []
    },
    {
      "cell_type": "code",
      "source": [
        "model = small_model()"
      ],
      "metadata": {
        "id": "5vMCnVSTZvi5"
      },
      "execution_count": null,
      "outputs": []
    },
    {
      "cell_type": "code",
      "source": [
        "K.set_image_data_format('channels_first')"
      ],
      "metadata": {
        "id": "t28FWt2Uees1"
      },
      "execution_count": null,
      "outputs": []
    },
    {
      "cell_type": "code",
      "source": [
        "# Train the model\n",
        "K.set_image_data_format('channels_first')\n",
        "history = model.fit(X_train, y_train, validation_data=(X_test, y_test), epochs=70, batch_size=200)\n"
      ],
      "metadata": {
        "colab": {
          "base_uri": "https://localhost:8080/"
        },
        "id": "lNDlKiMkeZQi",
        "outputId": "43249d74-7fa0-4a2e-d58c-7c20e2061925"
      },
      "execution_count": null,
      "outputs": [
        {
          "output_type": "stream",
          "name": "stdout",
          "text": [
            "Epoch 1/70\n",
            "300/300 [==============================] - 4s 10ms/step - loss: 0.2312 - accuracy: 0.9334 - val_loss: 0.0691 - val_accuracy: 0.9768\n",
            "Epoch 2/70\n",
            "300/300 [==============================] - 3s 10ms/step - loss: 0.0638 - accuracy: 0.9811 - val_loss: 0.0537 - val_accuracy: 0.9818\n",
            "Epoch 3/70\n",
            "300/300 [==============================] - 5s 16ms/step - loss: 0.0447 - accuracy: 0.9866 - val_loss: 0.0497 - val_accuracy: 0.9837\n",
            "Epoch 4/70\n",
            "300/300 [==============================] - 3s 11ms/step - loss: 0.0338 - accuracy: 0.9894 - val_loss: 0.0414 - val_accuracy: 0.9857\n",
            "Epoch 5/70\n",
            "300/300 [==============================] - 4s 13ms/step - loss: 0.0264 - accuracy: 0.9919 - val_loss: 0.0383 - val_accuracy: 0.9886\n",
            "Epoch 6/70\n",
            "300/300 [==============================] - 5s 18ms/step - loss: 0.0198 - accuracy: 0.9939 - val_loss: 0.0425 - val_accuracy: 0.9870\n",
            "Epoch 7/70\n",
            "300/300 [==============================] - 4s 13ms/step - loss: 0.0158 - accuracy: 0.9950 - val_loss: 0.0416 - val_accuracy: 0.9874\n",
            "Epoch 8/70\n",
            "300/300 [==============================] - 3s 9ms/step - loss: 0.0127 - accuracy: 0.9959 - val_loss: 0.0417 - val_accuracy: 0.9883\n",
            "Epoch 9/70\n",
            "300/300 [==============================] - 3s 9ms/step - loss: 0.0106 - accuracy: 0.9966 - val_loss: 0.0476 - val_accuracy: 0.9865\n",
            "Epoch 10/70\n",
            "300/300 [==============================] - 3s 10ms/step - loss: 0.0085 - accuracy: 0.9972 - val_loss: 0.0493 - val_accuracy: 0.9853\n",
            "Epoch 11/70\n",
            "300/300 [==============================] - 3s 9ms/step - loss: 0.0078 - accuracy: 0.9974 - val_loss: 0.0475 - val_accuracy: 0.9877\n",
            "Epoch 12/70\n",
            "300/300 [==============================] - 3s 9ms/step - loss: 0.0060 - accuracy: 0.9979 - val_loss: 0.0540 - val_accuracy: 0.9868\n",
            "Epoch 13/70\n",
            "300/300 [==============================] - 3s 9ms/step - loss: 0.0049 - accuracy: 0.9985 - val_loss: 0.0558 - val_accuracy: 0.9879\n",
            "Epoch 14/70\n",
            "300/300 [==============================] - 3s 10ms/step - loss: 0.0034 - accuracy: 0.9989 - val_loss: 0.0598 - val_accuracy: 0.9864\n",
            "Epoch 15/70\n",
            "300/300 [==============================] - 3s 9ms/step - loss: 0.0050 - accuracy: 0.9983 - val_loss: 0.0698 - val_accuracy: 0.9849\n",
            "Epoch 16/70\n",
            "300/300 [==============================] - 3s 9ms/step - loss: 0.0076 - accuracy: 0.9974 - val_loss: 0.0640 - val_accuracy: 0.9866\n",
            "Epoch 17/70\n",
            "300/300 [==============================] - 3s 9ms/step - loss: 0.0050 - accuracy: 0.9982 - val_loss: 0.0670 - val_accuracy: 0.9874\n",
            "Epoch 18/70\n",
            "300/300 [==============================] - 3s 9ms/step - loss: 0.0028 - accuracy: 0.9990 - val_loss: 0.0716 - val_accuracy: 0.9866\n",
            "Epoch 19/70\n",
            "300/300 [==============================] - 3s 10ms/step - loss: 0.0020 - accuracy: 0.9993 - val_loss: 0.0708 - val_accuracy: 0.9870\n",
            "Epoch 20/70\n",
            "300/300 [==============================] - 3s 9ms/step - loss: 0.0010 - accuracy: 0.9998 - val_loss: 0.0696 - val_accuracy: 0.9875\n",
            "Epoch 21/70\n",
            "300/300 [==============================] - 3s 9ms/step - loss: 0.0020 - accuracy: 0.9994 - val_loss: 0.0800 - val_accuracy: 0.9843\n",
            "Epoch 22/70\n",
            "300/300 [==============================] - 3s 9ms/step - loss: 0.0050 - accuracy: 0.9982 - val_loss: 0.1006 - val_accuracy: 0.9842\n",
            "Epoch 23/70\n",
            "300/300 [==============================] - 3s 9ms/step - loss: 0.0076 - accuracy: 0.9977 - val_loss: 0.0713 - val_accuracy: 0.9858\n",
            "Epoch 24/70\n",
            "300/300 [==============================] - 3s 10ms/step - loss: 0.0023 - accuracy: 0.9993 - val_loss: 0.0726 - val_accuracy: 0.9871\n",
            "Epoch 25/70\n",
            "300/300 [==============================] - 3s 9ms/step - loss: 5.2226e-04 - accuracy: 0.9999 - val_loss: 0.0702 - val_accuracy: 0.9884\n",
            "Epoch 26/70\n",
            "300/300 [==============================] - 3s 9ms/step - loss: 3.8820e-04 - accuracy: 0.9999 - val_loss: 0.0721 - val_accuracy: 0.9893\n",
            "Epoch 27/70\n",
            "300/300 [==============================] - 3s 9ms/step - loss: 5.4107e-05 - accuracy: 1.0000 - val_loss: 0.0726 - val_accuracy: 0.9888\n",
            "Epoch 28/70\n",
            "300/300 [==============================] - 3s 10ms/step - loss: 2.9749e-05 - accuracy: 1.0000 - val_loss: 0.0743 - val_accuracy: 0.9885\n",
            "Epoch 29/70\n",
            "300/300 [==============================] - 3s 9ms/step - loss: 2.2406e-05 - accuracy: 1.0000 - val_loss: 0.0755 - val_accuracy: 0.9886\n",
            "Epoch 30/70\n",
            "300/300 [==============================] - 3s 9ms/step - loss: 1.7914e-05 - accuracy: 1.0000 - val_loss: 0.0767 - val_accuracy: 0.9887\n",
            "Epoch 31/70\n",
            "300/300 [==============================] - 3s 9ms/step - loss: 1.4723e-05 - accuracy: 1.0000 - val_loss: 0.0781 - val_accuracy: 0.9886\n",
            "Epoch 32/70\n",
            "300/300 [==============================] - 3s 10ms/step - loss: 1.2562e-05 - accuracy: 1.0000 - val_loss: 0.0792 - val_accuracy: 0.9886\n",
            "Epoch 33/70\n",
            "300/300 [==============================] - 3s 9ms/step - loss: 1.0598e-05 - accuracy: 1.0000 - val_loss: 0.0804 - val_accuracy: 0.9887\n",
            "Epoch 34/70\n",
            "300/300 [==============================] - 3s 9ms/step - loss: 9.0397e-06 - accuracy: 1.0000 - val_loss: 0.0812 - val_accuracy: 0.9889\n",
            "Epoch 35/70\n",
            "300/300 [==============================] - 3s 9ms/step - loss: 7.7612e-06 - accuracy: 1.0000 - val_loss: 0.0829 - val_accuracy: 0.9886\n",
            "Epoch 36/70\n",
            "300/300 [==============================] - 4s 13ms/step - loss: 6.6756e-06 - accuracy: 1.0000 - val_loss: 0.0841 - val_accuracy: 0.9890\n",
            "Epoch 37/70\n",
            "300/300 [==============================] - 3s 10ms/step - loss: 5.6767e-06 - accuracy: 1.0000 - val_loss: 0.0853 - val_accuracy: 0.9886\n",
            "Epoch 38/70\n",
            "300/300 [==============================] - 3s 9ms/step - loss: 4.8286e-06 - accuracy: 1.0000 - val_loss: 0.0862 - val_accuracy: 0.9888\n",
            "Epoch 39/70\n",
            "300/300 [==============================] - 3s 9ms/step - loss: 4.2713e-06 - accuracy: 1.0000 - val_loss: 0.0879 - val_accuracy: 0.9888\n",
            "Epoch 40/70\n",
            "300/300 [==============================] - 3s 10ms/step - loss: 3.6075e-06 - accuracy: 1.0000 - val_loss: 0.0887 - val_accuracy: 0.9889\n",
            "Epoch 41/70\n",
            "300/300 [==============================] - 3s 9ms/step - loss: 3.1367e-06 - accuracy: 1.0000 - val_loss: 0.0903 - val_accuracy: 0.9888\n",
            "Epoch 42/70\n",
            "300/300 [==============================] - 3s 9ms/step - loss: 2.7482e-06 - accuracy: 1.0000 - val_loss: 0.0909 - val_accuracy: 0.9887\n",
            "Epoch 43/70\n",
            "300/300 [==============================] - 3s 9ms/step - loss: 2.3826e-06 - accuracy: 1.0000 - val_loss: 0.0924 - val_accuracy: 0.9887\n",
            "Epoch 44/70\n",
            "300/300 [==============================] - 3s 10ms/step - loss: 2.0107e-06 - accuracy: 1.0000 - val_loss: 0.0941 - val_accuracy: 0.9886\n",
            "Epoch 45/70\n",
            "300/300 [==============================] - 3s 11ms/step - loss: 1.7464e-06 - accuracy: 1.0000 - val_loss: 0.0951 - val_accuracy: 0.9885\n",
            "Epoch 46/70\n",
            "300/300 [==============================] - 3s 9ms/step - loss: 1.5252e-06 - accuracy: 1.0000 - val_loss: 0.0968 - val_accuracy: 0.9885\n",
            "Epoch 47/70\n",
            "300/300 [==============================] - 3s 9ms/step - loss: 1.3239e-06 - accuracy: 1.0000 - val_loss: 0.0977 - val_accuracy: 0.9888\n",
            "Epoch 48/70\n",
            "300/300 [==============================] - 3s 9ms/step - loss: 1.1375e-06 - accuracy: 1.0000 - val_loss: 0.0988 - val_accuracy: 0.9887\n",
            "Epoch 49/70\n",
            "300/300 [==============================] - 3s 10ms/step - loss: 9.6514e-07 - accuracy: 1.0000 - val_loss: 0.1003 - val_accuracy: 0.9887\n",
            "Epoch 50/70\n",
            "300/300 [==============================] - 3s 9ms/step - loss: 8.3124e-07 - accuracy: 1.0000 - val_loss: 0.1015 - val_accuracy: 0.9886\n",
            "Epoch 51/70\n",
            "300/300 [==============================] - 3s 9ms/step - loss: 7.2056e-07 - accuracy: 1.0000 - val_loss: 0.1026 - val_accuracy: 0.9885\n",
            "Epoch 52/70\n",
            "300/300 [==============================] - 3s 9ms/step - loss: 6.3415e-07 - accuracy: 1.0000 - val_loss: 0.1045 - val_accuracy: 0.9886\n",
            "Epoch 53/70\n",
            "300/300 [==============================] - 3s 9ms/step - loss: 5.3996e-07 - accuracy: 1.0000 - val_loss: 0.1056 - val_accuracy: 0.9886\n",
            "Epoch 54/70\n",
            "300/300 [==============================] - 3s 10ms/step - loss: 4.5670e-07 - accuracy: 1.0000 - val_loss: 0.1069 - val_accuracy: 0.9884\n",
            "Epoch 55/70\n",
            "300/300 [==============================] - 3s 9ms/step - loss: 3.8812e-07 - accuracy: 1.0000 - val_loss: 0.1086 - val_accuracy: 0.9885\n",
            "Epoch 56/70\n",
            "300/300 [==============================] - 3s 9ms/step - loss: 3.3668e-07 - accuracy: 1.0000 - val_loss: 0.1101 - val_accuracy: 0.9884\n",
            "Epoch 57/70\n",
            "300/300 [==============================] - 3s 9ms/step - loss: 2.9046e-07 - accuracy: 1.0000 - val_loss: 0.1108 - val_accuracy: 0.9883\n",
            "Epoch 58/70\n",
            "300/300 [==============================] - 3s 10ms/step - loss: 2.4955e-07 - accuracy: 1.0000 - val_loss: 0.1121 - val_accuracy: 0.9882\n",
            "Epoch 59/70\n",
            "300/300 [==============================] - 3s 9ms/step - loss: 2.1422e-07 - accuracy: 1.0000 - val_loss: 0.1140 - val_accuracy: 0.9882\n",
            "Epoch 60/70\n",
            "300/300 [==============================] - 3s 9ms/step - loss: 1.8239e-07 - accuracy: 1.0000 - val_loss: 0.1149 - val_accuracy: 0.9883\n",
            "Epoch 61/70\n",
            "300/300 [==============================] - 3s 9ms/step - loss: 1.6234e-07 - accuracy: 1.0000 - val_loss: 0.1164 - val_accuracy: 0.9883\n",
            "Epoch 62/70\n",
            "300/300 [==============================] - 3s 10ms/step - loss: 1.3991e-07 - accuracy: 1.0000 - val_loss: 0.1174 - val_accuracy: 0.9883\n",
            "Epoch 63/70\n",
            "300/300 [==============================] - 3s 10ms/step - loss: 1.1725e-07 - accuracy: 1.0000 - val_loss: 0.1189 - val_accuracy: 0.9883\n",
            "Epoch 64/70\n",
            "300/300 [==============================] - 3s 9ms/step - loss: 9.9887e-08 - accuracy: 1.0000 - val_loss: 0.1200 - val_accuracy: 0.9882\n",
            "Epoch 65/70\n",
            "300/300 [==============================] - 3s 9ms/step - loss: 8.7167e-08 - accuracy: 1.0000 - val_loss: 0.1216 - val_accuracy: 0.9882\n",
            "Epoch 66/70\n",
            "300/300 [==============================] - 3s 9ms/step - loss: 7.5497e-08 - accuracy: 1.0000 - val_loss: 0.1229 - val_accuracy: 0.9881\n",
            "Epoch 67/70\n",
            "300/300 [==============================] - 3s 9ms/step - loss: 6.4784e-08 - accuracy: 1.0000 - val_loss: 0.1240 - val_accuracy: 0.9880\n",
            "Epoch 68/70\n",
            "300/300 [==============================] - 3s 9ms/step - loss: 5.7389e-08 - accuracy: 1.0000 - val_loss: 0.1253 - val_accuracy: 0.9882\n",
            "Epoch 69/70\n",
            "300/300 [==============================] - 3s 9ms/step - loss: 4.8921e-08 - accuracy: 1.0000 - val_loss: 0.1266 - val_accuracy: 0.9881\n",
            "Epoch 70/70\n",
            "300/300 [==============================] - 3s 9ms/step - loss: 4.1741e-08 - accuracy: 1.0000 - val_loss: 0.1279 - val_accuracy: 0.9881\n"
          ]
        }
      ]
    },
    {
      "cell_type": "code",
      "source": [
        "# Evaluate the model before normalization\n",
        "loss, accuracy = model.evaluate(X_test, y_test)\n",
        "print(\"Test Loss:\", loss)\n",
        "print(\"Test Accuracy:\", accuracy)\n"
      ],
      "metadata": {
        "colab": {
          "base_uri": "https://localhost:8080/"
        },
        "id": "VIJomItYZgRC",
        "outputId": "5735327a-b65d-46b9-8b67-b4a5ed249f40"
      },
      "execution_count": null,
      "outputs": [
        {
          "output_type": "stream",
          "name": "stdout",
          "text": [
            "313/313 [==============================] - 1s 3ms/step - loss: 0.1279 - accuracy: 0.9881\n",
            "Test Loss: 0.12792576849460602\n",
            "Test Accuracy: 0.988099992275238\n"
          ]
        }
      ]
    },
    {
      "cell_type": "code",
      "source": [
        "def print_model_error_rate(model, X_test, y_test):\n",
        "  # Final evaluation of the model\n",
        "  scores = model.evaluate(X_test, y_test, verbose=0)\n",
        "  print(\"Model score : %.2f%%\" % (scores[1]*100))\n",
        "  print(\"Model error rate : %.2f%%\" % (100-scores[1]*100))"
      ],
      "metadata": {
        "id": "ZqVcoLumcpCx"
      },
      "execution_count": null,
      "outputs": []
    },
    {
      "cell_type": "code",
      "source": [
        "print_model_error_rate(model, X_test, y_test)"
      ],
      "metadata": {
        "colab": {
          "base_uri": "https://localhost:8080/"
        },
        "id": "VMSk65Hhiie8",
        "outputId": "46b3ce01-60b8-4966-fdf0-23dca4d3b00e"
      },
      "execution_count": null,
      "outputs": [
        {
          "output_type": "stream",
          "name": "stdout",
          "text": [
            "Model score : 98.81%\n",
            "Model error rate : 1.19%\n"
          ]
        }
      ]
    },
    {
      "cell_type": "code",
      "source": [
        "# Evaluate the model after normalization\n",
        "loss, accuracy = model.evaluate(X_test, y_test)\n",
        "print(\"Test Loss:\", loss)\n",
        "print(\"Test Accuracy:\", accuracy)"
      ],
      "metadata": {
        "colab": {
          "base_uri": "https://localhost:8080/"
        },
        "id": "E0vRBQZyjS1_",
        "outputId": "2a6ba459-a98b-4603-cc08-347731de223b"
      },
      "execution_count": null,
      "outputs": [
        {
          "output_type": "stream",
          "name": "stdout",
          "text": [
            "313/313 [==============================] - 1s 3ms/step - loss: 0.1279 - accuracy: 0.9881\n",
            "Test Loss: 0.12792576849460602\n",
            "Test Accuracy: 0.988099992275238\n"
          ]
        }
      ]
    },
    {
      "cell_type": "code",
      "source": [
        "print_model_error_rate(model, X_test, y_test)"
      ],
      "metadata": {
        "colab": {
          "base_uri": "https://localhost:8080/"
        },
        "id": "OR1EhwAXkO_Q",
        "outputId": "8e2e532c-80d8-4faa-850f-6392ddb54f35"
      },
      "execution_count": null,
      "outputs": [
        {
          "output_type": "stream",
          "name": "stdout",
          "text": [
            "Model score : 98.81%\n",
            "Model error rate : 1.19%\n"
          ]
        }
      ]
    },
    {
      "cell_type": "markdown",
      "source": [
        "Le nouveau taux d'erreur est 1.39%. On remarque que le taux d'erreur a diminué après la normalisation des données."
      ],
      "metadata": {
        "id": "huMmVALbtHLj"
      }
    },
    {
      "cell_type": "markdown",
      "source": [
        "# Construction du deuxième réseau"
      ],
      "metadata": {
        "id": "YsnP8a4xuTaA"
      }
    },
    {
      "cell_type": "code",
      "source": [
        "def medium_CNN():\n",
        "  model = Sequential()\n",
        "  # create model\n",
        "  model = Sequential()\n",
        "  model.add(Conv2D(32, (5, 5), input_shape=(1, 28, 28),activation='relu'))\n",
        "  model.add(MaxPooling2D(pool_size=(2, 2)))\n",
        "  model.add(Dropout(0.2))\n",
        "  model.add(Flatten())\n",
        "  model.add(Dense(128, activation='relu'))\n",
        "  model.add(Dense(num_classes, activation='softmax'))\n",
        "  #compile model\n",
        "  model.compile(loss='categorical_crossentropy', optimizer='adam', metrics=['accuracy'])\n",
        "  return model"
      ],
      "metadata": {
        "id": "pAwujxdbuY9n"
      },
      "execution_count": null,
      "outputs": []
    },
    {
      "cell_type": "code",
      "source": [
        "model1 = medium_CNN()"
      ],
      "metadata": {
        "id": "-8akbIVDvDug"
      },
      "execution_count": null,
      "outputs": []
    },
    {
      "cell_type": "code",
      "source": [
        "# Train the model\n",
        "K.set_image_data_format('channels_first')\n",
        "history = model1.fit(X_train, y_train, validation_data=(X_test, y_test), epochs=10, batch_size=200)"
      ],
      "metadata": {
        "colab": {
          "base_uri": "https://localhost:8080/"
        },
        "id": "Vl7HiimbvLim",
        "outputId": "81c575e2-e432-4c02-fae2-a1581301e3b0"
      },
      "execution_count": null,
      "outputs": [
        {
          "output_type": "stream",
          "name": "stdout",
          "text": [
            "Epoch 1/10\n",
            "300/300 [==============================] - 4s 5ms/step - loss: 0.2535 - accuracy: 0.9281 - val_loss: 0.0808 - val_accuracy: 0.9757\n",
            "Epoch 2/10\n",
            "300/300 [==============================] - 1s 4ms/step - loss: 0.0741 - accuracy: 0.9783 - val_loss: 0.0472 - val_accuracy: 0.9854\n",
            "Epoch 3/10\n",
            "300/300 [==============================] - 1s 4ms/step - loss: 0.0522 - accuracy: 0.9839 - val_loss: 0.0443 - val_accuracy: 0.9854\n",
            "Epoch 4/10\n",
            "300/300 [==============================] - 2s 6ms/step - loss: 0.0398 - accuracy: 0.9876 - val_loss: 0.0452 - val_accuracy: 0.9853\n",
            "Epoch 5/10\n",
            "300/300 [==============================] - 3s 11ms/step - loss: 0.0313 - accuracy: 0.9901 - val_loss: 0.0367 - val_accuracy: 0.9886\n",
            "Epoch 6/10\n",
            "300/300 [==============================] - 2s 8ms/step - loss: 0.0264 - accuracy: 0.9918 - val_loss: 0.0374 - val_accuracy: 0.9866\n",
            "Epoch 7/10\n",
            "300/300 [==============================] - 1s 4ms/step - loss: 0.0226 - accuracy: 0.9930 - val_loss: 0.0314 - val_accuracy: 0.9892\n",
            "Epoch 8/10\n",
            "300/300 [==============================] - 1s 5ms/step - loss: 0.0190 - accuracy: 0.9941 - val_loss: 0.0320 - val_accuracy: 0.9885\n",
            "Epoch 9/10\n",
            "300/300 [==============================] - 2s 5ms/step - loss: 0.0156 - accuracy: 0.9947 - val_loss: 0.0333 - val_accuracy: 0.9887\n",
            "Epoch 10/10\n",
            "300/300 [==============================] - 2s 8ms/step - loss: 0.0135 - accuracy: 0.9959 - val_loss: 0.0366 - val_accuracy: 0.9884\n"
          ]
        }
      ]
    },
    {
      "cell_type": "code",
      "source": [
        "print_model_error_rate(model1, X_test, y_test)"
      ],
      "metadata": {
        "colab": {
          "base_uri": "https://localhost:8080/"
        },
        "id": "yTEEUwh_vTOT",
        "outputId": "79725a4b-3637-4924-f3f2-cbcea3f7c418"
      },
      "execution_count": null,
      "outputs": [
        {
          "output_type": "stream",
          "name": "stdout",
          "text": [
            "Model score : 98.84%\n",
            "Model error rate : 1.16%\n"
          ]
        }
      ]
    },
    {
      "cell_type": "code",
      "source": [
        "loss, accuracy = model1.evaluate(X_test, y_test)\n",
        "print(\"Test Loss:\", loss)\n",
        "print(\"Test Accuracy:\", accuracy)"
      ],
      "metadata": {
        "colab": {
          "base_uri": "https://localhost:8080/"
        },
        "id": "dbLRW_Onva-O",
        "outputId": "778f57cb-5648-4e3d-d42f-d354757aef3b"
      },
      "execution_count": null,
      "outputs": [
        {
          "output_type": "stream",
          "name": "stdout",
          "text": [
            "313/313 [==============================] - 2s 4ms/step - loss: 0.0366 - accuracy: 0.9884\n",
            "Test Loss: 0.036638375371694565\n",
            "Test Accuracy: 0.9883999824523926\n"
          ]
        }
      ]
    },
    {
      "cell_type": "markdown",
      "source": [
        "# Construction du troisième réseau"
      ],
      "metadata": {
        "id": "pcsjUckRw9GU"
      }
    },
    {
      "cell_type": "code",
      "source": [
        "def large_CNN():\n",
        "  model = Sequential()\n",
        "  # create model\n",
        "  model = Sequential()\n",
        "  model.add(Conv2D(30, (5, 5), input_shape=(1, 28, 28),activation='relu'))\n",
        "  model.add(MaxPooling2D(pool_size=(2, 2)))\n",
        "  model.add(Conv2D(15, (3, 3), activation='relu'))\n",
        "  model.add(Dropout(0.2))\n",
        "  model.add(Flatten())\n",
        "  model.add(Dense(128, activation='relu'))\n",
        "  model.add(Dense(50, activation='relu'))\n",
        "  model.add(Dense(num_classes, activation='softmax'))\n",
        "  #compile model\n",
        "  model.compile(loss='categorical_crossentropy', optimizer='adam', metrics=['accuracy'])\n",
        "  return model"
      ],
      "metadata": {
        "id": "GGp2WlZkxAha"
      },
      "execution_count": null,
      "outputs": []
    },
    {
      "cell_type": "code",
      "source": [
        "large_model = large_CNN()"
      ],
      "metadata": {
        "id": "rZScGMpDxiPw"
      },
      "execution_count": null,
      "outputs": []
    },
    {
      "cell_type": "code",
      "source": [
        "# Train the model\n",
        "K.set_image_data_format('channels_first')\n",
        "history = large_model.fit(X_train, y_train, validation_data=(X_test, y_test), epochs=10, batch_size=200)"
      ],
      "metadata": {
        "colab": {
          "base_uri": "https://localhost:8080/"
        },
        "id": "Ix2mmMSsxpmp",
        "outputId": "665de585-c31b-4f74-e7a7-cf1394315f8c"
      },
      "execution_count": null,
      "outputs": [
        {
          "output_type": "stream",
          "name": "stdout",
          "text": [
            "Epoch 1/10\n",
            "300/300 [==============================] - 4s 6ms/step - loss: 0.3144 - accuracy: 0.9069 - val_loss: 0.0780 - val_accuracy: 0.9763\n",
            "Epoch 2/10\n",
            "300/300 [==============================] - 1s 5ms/step - loss: 0.0797 - accuracy: 0.9760 - val_loss: 0.0465 - val_accuracy: 0.9853\n",
            "Epoch 3/10\n",
            "300/300 [==============================] - 1s 5ms/step - loss: 0.0545 - accuracy: 0.9835 - val_loss: 0.0381 - val_accuracy: 0.9887\n",
            "Epoch 4/10\n",
            "300/300 [==============================] - 2s 6ms/step - loss: 0.0414 - accuracy: 0.9875 - val_loss: 0.0368 - val_accuracy: 0.9881\n",
            "Epoch 5/10\n",
            "300/300 [==============================] - 2s 6ms/step - loss: 0.0332 - accuracy: 0.9897 - val_loss: 0.0345 - val_accuracy: 0.9896\n",
            "Epoch 6/10\n",
            "300/300 [==============================] - 1s 5ms/step - loss: 0.0282 - accuracy: 0.9913 - val_loss: 0.0360 - val_accuracy: 0.9878\n",
            "Epoch 7/10\n",
            "300/300 [==============================] - 1s 5ms/step - loss: 0.0249 - accuracy: 0.9917 - val_loss: 0.0284 - val_accuracy: 0.9908\n",
            "Epoch 8/10\n",
            "300/300 [==============================] - 1s 5ms/step - loss: 0.0213 - accuracy: 0.9930 - val_loss: 0.0281 - val_accuracy: 0.9909\n",
            "Epoch 9/10\n",
            "300/300 [==============================] - 1s 5ms/step - loss: 0.0186 - accuracy: 0.9941 - val_loss: 0.0307 - val_accuracy: 0.9910\n",
            "Epoch 10/10\n",
            "300/300 [==============================] - 1s 5ms/step - loss: 0.0168 - accuracy: 0.9945 - val_loss: 0.0292 - val_accuracy: 0.9906\n"
          ]
        }
      ]
    },
    {
      "cell_type": "code",
      "source": [
        "print_model_error_rate(large_model, X_test, y_test)"
      ],
      "metadata": {
        "colab": {
          "base_uri": "https://localhost:8080/"
        },
        "id": "WUwYwb5CxvXA",
        "outputId": "daada42a-b80c-494e-f324-a1c96f0b522f"
      },
      "execution_count": null,
      "outputs": [
        {
          "output_type": "stream",
          "name": "stdout",
          "text": [
            "Model score : 99.06%\n",
            "Model error rate : 0.94%\n"
          ]
        }
      ]
    },
    {
      "cell_type": "code",
      "source": [
        "loss, accuracy = large_model.evaluate(X_test, y_test)\n",
        "print(\"Test Loss:\", loss)\n",
        "print(\"Test Accuracy:\", accuracy)"
      ],
      "metadata": {
        "colab": {
          "base_uri": "https://localhost:8080/"
        },
        "id": "U40-GZOOxxoE",
        "outputId": "1d07f1e4-4e9e-4647-bf97-825810bd2ee3"
      },
      "execution_count": null,
      "outputs": [
        {
          "output_type": "stream",
          "name": "stdout",
          "text": [
            "313/313 [==============================] - 1s 3ms/step - loss: 0.0292 - accuracy: 0.9906\n",
            "Test Loss: 0.029201630502939224\n",
            "Test Accuracy: 0.9905999898910522\n"
          ]
        }
      ]
    },
    {
      "cell_type": "markdown",
      "source": [
        "# Sauvegarde et chargements des modèles Keras"
      ],
      "metadata": {
        "id": "sWBCUAO9yKHI"
      }
    },
    {
      "cell_type": "code",
      "source": [
        "# This function saves a model on the drive using two files: a json and a h5\n",
        "def save_keras_model(model, filename):\n",
        "  # serialize model to JSON\n",
        "  model_json = model.to_json()\n",
        "  with open(filename+\".json\", \"w\") as json_file:\n",
        "    json_file.write(model_json)\n",
        "  # serialize weights to HDF5\n",
        "  model.save_weights(filename+\".h5\")"
      ],
      "metadata": {
        "id": "RACzY--_kQtu"
      },
      "execution_count": null,
      "outputs": []
    },
    {
      "cell_type": "code",
      "source": [
        "from keras.models import model_from_json\n",
        "# BE CAREFUL : the model NEEDS TO BE COMPILED before any use !\n",
        "def load_keras_model(filename):\n",
        "  # load json and create model\n",
        "  json_file = open(filename+\".json\", 'r')\n",
        "  loaded_model_json = json_file.read()\n",
        "  json_file.close()\n",
        "  loaded_model = model_from_json(loaded_model_json)\n",
        "  # load weights into new model\n",
        "  loaded_model.load_weights(filename+\".h5\")\n",
        "  return loaded_model"
      ],
      "metadata": {
        "id": "LzcjZXA_kmYd"
      },
      "execution_count": null,
      "outputs": []
    },
    {
      "cell_type": "code",
      "source": [
        "save_keras_model(model, \"CNN_model\")"
      ],
      "metadata": {
        "id": "FxbF04W3k7TK"
      },
      "execution_count": null,
      "outputs": []
    },
    {
      "cell_type": "code",
      "source": [
        "load_keras_model(\"CNN_model\")"
      ],
      "metadata": {
        "colab": {
          "base_uri": "https://localhost:8080/"
        },
        "id": "-qRgzaZalXYT",
        "outputId": "29de402b-3542-471a-c896-6dd817bb6f90"
      },
      "execution_count": null,
      "outputs": [
        {
          "output_type": "execute_result",
          "data": {
            "text/plain": [
              "<keras.src.engine.sequential.Sequential at 0x7e2db8838250>"
            ]
          },
          "metadata": {},
          "execution_count": 47
        }
      ]
    },
    {
      "cell_type": "code",
      "source": [
        "model=load_keras_model(\"CNN_model\")"
      ],
      "metadata": {
        "id": "JKQbJeqzlKaA"
      },
      "execution_count": null,
      "outputs": []
    },
    {
      "cell_type": "code",
      "source": [
        "from keras.preprocessing import image\n",
        "import numpy as np\n",
        "img_path = 'two.png'\n",
        "img = image.load_img(img_path, target_size=(28, 28), grayscale=True)"
      ],
      "metadata": {
        "id": "CA8qtnTolRUu"
      },
      "execution_count": null,
      "outputs": []
    },
    {
      "cell_type": "code",
      "source": [
        "# Convert the image to a numpy array\n",
        "img_array = image.img_to_array(img)\n",
        "\n",
        "# Normalize the image data\n",
        "img_array = img_array / 255.0\n",
        "\n",
        "# Reshape the image to match the input shape of your model\n",
        "img_array = np.expand_dims(img_array, axis=0)"
      ],
      "metadata": {
        "id": "FxtBMvsAmU6n"
      },
      "execution_count": null,
      "outputs": []
    },
    {
      "cell_type": "code",
      "source": [
        "# Make predictions using your trained model\n",
        "predictions = model.predict(img_array)\n",
        "\n",
        "# Get the predicted class\n",
        "predicted_class = np.argmax(predictions)\n",
        "\n",
        "# Print the predicted class\n",
        "print(\"Predicted class:\", predicted_class)"
      ],
      "metadata": {
        "colab": {
          "base_uri": "https://localhost:8080/"
        },
        "id": "4oXArEW1meP2",
        "outputId": "8a86c7f7-8f98-4ea0-f44b-277e89602252"
      },
      "execution_count": null,
      "outputs": [
        {
          "output_type": "stream",
          "name": "stdout",
          "text": [
            "1/1 [==============================] - 0s 16ms/step\n",
            "Predicted class: 2\n"
          ]
        }
      ]
    }
  ]
}